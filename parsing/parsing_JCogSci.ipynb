{
 "cells": [
  {
   "cell_type": "markdown",
   "metadata": {},
   "source": [
    "# Parsing Journal of Cognitive Science article data Arthur already scraped (see GDrive)\n",
    "Aim 1: Parse author & affiliation information for each article.\n",
    "\n",
    "###### Tentative plans\n",
    "\n",
    "LOOP THROUGH ALL ROWS: \n",
    "- Separate the author and affiliation data\n",
    "- Create new row for each author in that paper, and denote whether that author was a corresponding author. \n",
    "- Also, keep the article name and index (row number) of the article in the original dataset."
   ]
  },
  {
   "cell_type": "code",
   "execution_count": 2,
   "metadata": {
    "collapsed": true
   },
   "outputs": [],
   "source": [
    "import pandas as pd\n",
    "import string as st\n",
    "\n",
    "import matplotlib\n",
    "matplotlib.use('Agg')\n",
    "import numpy as np\n",
    "from datascience import *\n",
    "%matplotlib inline\n",
    "import matplotlib.pyplot as plt\n",
    "import numpy as np\n",
    "plt.style.use('fivethirtyeight')"
   ]
  },
  {
   "cell_type": "code",
   "execution_count": 3,
   "metadata": {
    "collapsed": true
   },
   "outputs": [],
   "source": [
    "data_file = '../data/171022_cogsci_journal_unprocessed.csv'\n",
    "df_pd = pd.read_csv(data_file)\n",
    "df = Table.read_table(data_file)"
   ]
  },
  {
   "cell_type": "code",
   "execution_count": 4,
   "metadata": {},
   "outputs": [
    {
     "data": {
      "text/html": [
       "<table border=\"1\" class=\"dataframe\">\n",
       "    <thead>\n",
       "        <tr>\n",
       "            <th>Unnamed: 0</th> <th>article_name</th> <th>year</th> <th>volume</th> <th>issue</th> <th>pages</th> <th>month</th> <th>authors_and_details</th> <th>num_of_authors</th> <th>article_type</th> <th>keywords</th> <th>doi</th> <th>references</th> <th>num_of_references</th> <th>references_authors</th> <th>references_journals</th> <th>references_nonjournal</th> <th>references_titles_all</th> <th>references_same_number</th> <th>references_titles_journal</th> <th>citedby</th> <th>num_of_citedby</th> <th>citedby_authors</th> <th>citedby_journals</th> <th>article_abstract</th>\n",
       "        </tr>\n",
       "    </thead>\n",
       "    <tbody>\n",
       "        <tr>\n",
       "            <td>1         </td> <td>nan                                                         </td> <td>nan </td> <td>nan   </td> <td>nan  </td> <td>nan    </td> <td>nan    </td> <td>nan                                                         </td> <td>nan           </td> <td>nan             </td> <td>nan     </td> <td>nan                       </td> <td>nan                                                         </td> <td>nan              </td> <td>nan                                                         </td> <td>nan                                                         </td> <td>nan                                                         </td> <td>nan                                                         </td> <td>nan                   </td> <td>nan                                                         </td> <td>nan                                                         </td> <td>nan           </td> <td>nan                                                         </td> <td>nan                                                         </td> <td>nan                                                         </td>\n",
       "        </tr>\n",
       "    </tbody>\n",
       "        <tr>\n",
       "            <td>2         </td> <td>Why Cognitive Science                                       </td> <td>1977</td> <td>1     </td> <td>1    </td> <td>1-2    </td> <td>January</td> <td>Allan Collins                                               </td> <td>1             </td> <td>Original Article</td> <td>nan     </td> <td>10.1207/s15516709cog0101_1</td> <td>nan                                                         </td> <td>0                </td> <td>nan                                                         </td> <td>nan                                                         </td> <td>nan                                                         </td> <td>nan                                                         </td> <td>0                     </td> <td>nan                                                         </td> <td>Marco Elio Tabacchi, Settimo Termini, “The human use of  ...</td> <td>12            </td> <td>Marco Elio Tabacchi/nSettimo Termini/n2017/nLoet Leydesd ...</td> <td>Biophysical Chemistry/nJournal of the Association for In ...</td> <td>nan                                                         </td>\n",
       "        </tr>\n",
       "    </tbody>\n",
       "        <tr>\n",
       "            <td>3         </td> <td>An Overview of KRL, a Knowledge Representation Language     </td> <td>1977</td> <td>1     </td> <td>1    </td> <td>3-46   </td> <td>January</td> <td>Daniel G. Bobrow,Corresponding author             Xerox  ...</td> <td>2             </td> <td>Original Article</td> <td>nan     </td> <td>10.1207/s15516709cog0101_2</td> <td>  Anderson, J., & Bower, G.  Human associative memory. W ...</td> <td>55               </td> <td>Anderson, J./nBower, G./n1973/nBobrow, D. G./nKaplan, R. ...</td> <td>Artificial Intelligence/nCommunication of the Associatio ...</td> <td>Human associative memory/nRepresentation and understandi ...</td> <td>Human associative memory/nGus, a frame driven dialog sys ...</td> <td>1                     </td> <td>Gus, a frame driven dialog system/nA model and stack imp ...</td> <td>Orlando Lopez-Cruz, Nini Johanna Garnica, Trends and App ...</td> <td>278           </td> <td>Orlando Lopez-Cruz/nNini Johanna Garnica/n2018/n2015/nEr ...</td> <td>Computational Linguistics/nExpert Systems with Applicati ...</td> <td>This paper describes KRL, a Knowledge Representation Lan ...</td>\n",
       "        </tr>\n",
       "    </tbody>\n",
       "        <tr>\n",
       "            <td>4         </td> <td>Human and Computational Question Answering†                 </td> <td>1977</td> <td>1     </td> <td>1    </td> <td>47-73  </td> <td>January</td> <td>Wendy LehnertCorresponding author             Yale Unive ...</td> <td>1             </td> <td>Original Article</td> <td>nan     </td> <td>10.1207/s15516709cog0101_3</td> <td>  Abelson, R. P.  Concepts for representing mundane real ...</td> <td>12               </td> <td>Abelson, R. P./n1975/nCullingford, R. E./n1975/nMeehan,  ...</td> <td>American Journal of Computational Linguistics/nAmerican  ...</td> <td>Representation and understanding/nCenter for Human Infor ...</td> <td>Concepts for representing mundane reality in plans/nAn a ...</td> <td>0                     </td> <td>An approach to the representation of mundane world knowl ...</td> <td>Colleen E. Crangle, Joyce Brothers Kart, A questions-bas ...</td> <td>31            </td> <td>Colleen E. Crangle/nJoyce Brothers Kart/n2015/n2014/nSam ...</td> <td>PeerJ/nTheory and Practice in Language Studies/nIBM Jour ...</td> <td>The ability to answer questions about a text is the stro ...</td>\n",
       "        </tr>\n",
       "    </tbody>\n",
       "        <tr>\n",
       "            <td>5         </td> <td>Definite Descriptions and Semantic Memory†                  </td> <td>1977</td> <td>1     </td> <td>1    </td> <td>74-83  </td> <td>January</td> <td>Andrew Ortony,Corresponding author             Universit ...</td> <td>2             </td> <td>Original Article</td> <td>nan     </td> <td>10.1207/s15516709cog0101_4</td> <td>  Anderson, J. R., & Bower, G. H.  Human associative mem ...</td> <td>13               </td> <td>Anderson, J. R./nBower, G. H./n1973/nAnderson, J. R./nHa ...</td> <td>Cognitive Psychology/nAmerican Educational Research Jour ...</td> <td>Human associative memory/nTranslations from the writings ...</td> <td>Human associative memory/nIndividuation and reference in ...</td> <td>1                     </td> <td>Individuation and reference in memory: Proper names and  ...</td> <td>Kristine H. Onishi, Gregory L. Murphy, Discourse model r ...</td> <td>7             </td> <td>Kristine H. Onishi/nGregory L. Murphy/n2002/nBoaz Keysar ...</td> <td>Language and Cognitive Processes/nJournal of Memory and  ...</td> <td>Subjects were exposed to sentences containing “direct” a ...</td>\n",
       "        </tr>\n",
       "    </tbody>\n",
       "        <tr>\n",
       "            <td>6         </td> <td>Artificial Intelligence, Language, and the Study of Know ...</td> <td>1977</td> <td>1     </td> <td>1    </td> <td>84-123 </td> <td>January</td> <td>Professor Ira Goldstein,Corresponding author             ...</td> <td>2             </td> <td>Original Article</td> <td>nan     </td> <td>10.1207/s15516709cog0101_5</td> <td>  Anderson, J. R., & Bower, G.  Human associative memory ...</td> <td>48               </td> <td>Anderson, J. R./nBower, G./n1973/n1975/nBrown, J. S./nMa ...</td> <td>Linguistic Analysis/nArtificial Intelligence/nJournal of ...</td> <td>Human associative memory/nRepresentation and understandi ...</td> <td>Human associative memory/nProposal for knowledge-based i ...</td> <td>1                     </td> <td>Questions of form and interpretation/nSummary of MYCROFT ...</td> <td>Antoine C. M. van den Bogaart, Hans G. K. Hummel, Paul A ...</td> <td>37            </td> <td>Antoine C. M. van den Bogaart/nHans G. K. Hummel/nPaul A ...</td> <td>Professional Development in Education/nArtificial Intell ...</td> <td>This paper studies the relationship of Artificial Intell ...</td>\n",
       "        </tr>\n",
       "    </tbody>\n",
       "        <tr>\n",
       "            <td>7         </td> <td>Induction of Augmented Transition Networks†                 </td> <td>1977</td> <td>1     </td> <td>2    </td> <td>125-157</td> <td>April  </td> <td>John R. AndersonCorresponding author             Yale Un ...</td> <td>1             </td> <td>Original Article</td> <td>nan     </td> <td>10.1207/s15516709cog0102_1</td> <td>  Anderson, J. R.  Language acquisition by computer and  ...</td> <td>32               </td> <td>Anderson, J. R./n1974/nAnderson, J. R./n1975/nAnderson,  ...</td> <td>Information and Control/nJournal of Mathematical Psychol ...</td> <td>Language acquisition by computer and child/nInformation  ...</td> <td>Language acquisition by computer and child/nComputer sim ...</td> <td>0                     </td> <td>Language identification in the limit/nA mathematical the ...</td> <td>Georgia M. Green, Non-Transformational Syntax, 2011, 378 ...</td> <td>25            </td> <td>Georgia M. Green/n2011/nMichael Gasser/n2006/nR.F Hadley ...</td> <td>Neural Networks/nLingua/nComputers & Industrial Engineer ...</td> <td>LAS is a program that acquires augmented transition netw ...</td>\n",
       "        </tr>\n",
       "    </tbody>\n",
       "        <tr>\n",
       "            <td>8         </td> <td>Decision Theory and Artificial Intelligence II: The Hung ...</td> <td>1977</td> <td>1     </td> <td>2    </td> <td>158-192</td> <td>April  </td> <td>Jerome A. Feldman,Corresponding author             Unive ...</td> <td>2             </td> <td>Original Article</td> <td>nan     </td> <td>10.1207/s15516709cog0102_2</td> <td>  Bobrow, D. G., & Collins, A. (Eds.) Representation and ...</td> <td>39               </td> <td>1975/nBobrow, D. G./nRaphael, B./n1974/nBobrow, D. G./nW ...</td> <td>Computing Surveys/nOperations Research/nArtificial Intel ...</td> <td>Representation and understanding/nPhD thesis/nElementary ...</td> <td>New programming languages for AI research/nAn overview o ...</td> <td>1                     </td> <td>New programming languages for AI research/nSearch for an ...</td> <td>Nils Bulling, A Survey of Multi-Agent Decision Making, K ...</td> <td>24            </td> <td>Nils Bulling/n2014/nCharisma F. Choudhury/nMoshe Ben-Aki ...</td> <td>KI - Künstliche Intelligenz/nJournal of Choice Modelling ...</td> <td>This paper describes a problem-solving framework In whic ...</td>\n",
       "        </tr>\n",
       "    </tbody>\n",
       "        <tr>\n",
       "            <td>9         </td> <td>Problem Solving in Semantically Rich Domains: An Example ...</td> <td>1977</td> <td>1     </td> <td>2    </td> <td>193-215</td> <td>April  </td> <td>R. Bhaskar,             Carnegie-Mellon University/nHerb ...</td> <td>2             </td> <td>Original Article</td> <td>nan     </td> <td>10.1207/s15516709cog0102_3</td> <td>  Newell, A., & Simon, H. A.  Human problem solving. Eng ...</td> <td>2                </td> <td>Newell, A./nSimon, H. A./n1972/nWaterman, D. A./nNewell, ...</td> <td>nan                                                         </td> <td>Human problem solving/nPAS-II: An interactive task-free  ...</td> <td>Human problem solving/nPAS-II: An interactive task-free  ...</td> <td>0                     </td> <td>nan                                                         </td> <td>Fernand Gobet, Minds, Models and Milieux, 2016, 151/nNih ...</td> <td>64            </td> <td>Fernand Gobet/n2016/nNihad Dukhan/n2015/nNihad Dukhan/n2 ...</td> <td>QScience Proceedings/nQScience Proceedings/nJournal of t ...</td> <td>Recent research on human problem solving has largely foc ...</td>\n",
       "        </tr>\n",
       "    </tbody>\n",
       "        <tr>\n",
       "            <td>10        </td> <td>Verbs, Time, and Modality†                                  </td> <td>1977</td> <td>1     </td> <td>2    </td> <td>216-234</td> <td>April  </td> <td>M. J. SteedmanCorresponding author             Universit ...</td> <td>1             </td> <td>Original Article</td> <td>nan     </td> <td>10.1207/s15516709cog0102_4</td> <td>  Antinucci, F., & Parisi, D.  On English modal verbs. P ...</td> <td>11               </td> <td>Antinucci, F./nParisi, D./n1971/nBoyd, J./nThorne, J./n1 ...</td> <td>Journal of Linguistics                                      </td> <td>Papers from the Seventh Regional Meeting C.L.S./nStudies ...</td> <td>On English modal verbs/nThe semantics of modal verbs/nSt ...</td> <td>0                     </td> <td>The semantics of modal verbs                                </td> <td>João Paulo Aires, Daniele Pinheiro, Vera Strube de Lima, ...</td> <td>10            </td> <td>João Paulo Aires/nDaniele Pinheiro/nVera Strube de Lima/ ...</td> <td>Artificial Intelligence and Law/nFirst Language/nFirst L ...</td> <td>In the first part of this paper it is argued that Vendle ...</td>\n",
       "        </tr>\n",
       "    </tbody>\n",
       "</table>\n",
       "<p>... (1620 rows omitted)</p"
      ],
      "text/plain": [
       "Unnamed: 0 | article_name                                                 | year | volume | issue | pages   | month   | authors_and_details                                          | num_of_authors | article_type     | keywords | doi                        | references                                                   | num_of_references | references_authors                                           | references_journals                                          | references_nonjournal                                        | references_titles_all                                        | references_same_number | references_titles_journal                                    | citedby                                                      | num_of_citedby | citedby_authors                                              | citedby_journals                                             | article_abstract\n",
       "1          | nan                                                          | nan  | nan    | nan   | nan     | nan     | nan                                                          | nan            | nan              | nan      | nan                        | nan                                                          | nan               | nan                                                          | nan                                                          | nan                                                          | nan                                                          | nan                    | nan                                                          | nan                                                          | nan            | nan                                                          | nan                                                          | nan\n",
       "2          | Why Cognitive Science                                        | 1977 | 1      | 1     | 1-2     | January | Allan Collins                                                | 1              | Original Article | nan      | 10.1207/s15516709cog0101_1 | nan                                                          | 0                 | nan                                                          | nan                                                          | nan                                                          | nan                                                          | 0                      | nan                                                          | Marco Elio Tabacchi, Settimo Termini, “The human use of  ... | 12             | Marco Elio Tabacchi/nSettimo Termini/n2017/nLoet Leydesd ... | Biophysical Chemistry/nJournal of the Association for In ... | nan\n",
       "3          | An Overview of KRL, a Knowledge Representation Language      | 1977 | 1      | 1     | 3-46    | January | Daniel G. Bobrow,Corresponding author             Xerox  ... | 2              | Original Article | nan      | 10.1207/s15516709cog0101_2 |   Anderson, J., & Bower, G.  Human associative memory. W ... | 55                | Anderson, J./nBower, G./n1973/nBobrow, D. G./nKaplan, R. ... | Artificial Intelligence/nCommunication of the Associatio ... | Human associative memory/nRepresentation and understandi ... | Human associative memory/nGus, a frame driven dialog sys ... | 1                      | Gus, a frame driven dialog system/nA model and stack imp ... | Orlando Lopez-Cruz, Nini Johanna Garnica, Trends and App ... | 278            | Orlando Lopez-Cruz/nNini Johanna Garnica/n2018/n2015/nEr ... | Computational Linguistics/nExpert Systems with Applicati ... | This paper describes KRL, a Knowledge Representation Lan ...\n",
       "4          | Human and Computational Question Answering†                  | 1977 | 1      | 1     | 47-73   | January | Wendy LehnertCorresponding author             Yale Unive ... | 1              | Original Article | nan      | 10.1207/s15516709cog0101_3 |   Abelson, R. P.  Concepts for representing mundane real ... | 12                | Abelson, R. P./n1975/nCullingford, R. E./n1975/nMeehan,  ... | American Journal of Computational Linguistics/nAmerican  ... | Representation and understanding/nCenter for Human Infor ... | Concepts for representing mundane reality in plans/nAn a ... | 0                      | An approach to the representation of mundane world knowl ... | Colleen E. Crangle, Joyce Brothers Kart, A questions-bas ... | 31             | Colleen E. Crangle/nJoyce Brothers Kart/n2015/n2014/nSam ... | PeerJ/nTheory and Practice in Language Studies/nIBM Jour ... | The ability to answer questions about a text is the stro ...\n",
       "5          | Definite Descriptions and Semantic Memory†                   | 1977 | 1      | 1     | 74-83   | January | Andrew Ortony,Corresponding author             Universit ... | 2              | Original Article | nan      | 10.1207/s15516709cog0101_4 |   Anderson, J. R., & Bower, G. H.  Human associative mem ... | 13                | Anderson, J. R./nBower, G. H./n1973/nAnderson, J. R./nHa ... | Cognitive Psychology/nAmerican Educational Research Jour ... | Human associative memory/nTranslations from the writings ... | Human associative memory/nIndividuation and reference in ... | 1                      | Individuation and reference in memory: Proper names and  ... | Kristine H. Onishi, Gregory L. Murphy, Discourse model r ... | 7              | Kristine H. Onishi/nGregory L. Murphy/n2002/nBoaz Keysar ... | Language and Cognitive Processes/nJournal of Memory and  ... | Subjects were exposed to sentences containing “direct” a ...\n",
       "6          | Artificial Intelligence, Language, and the Study of Know ... | 1977 | 1      | 1     | 84-123  | January | Professor Ira Goldstein,Corresponding author             ... | 2              | Original Article | nan      | 10.1207/s15516709cog0101_5 |   Anderson, J. R., & Bower, G.  Human associative memory ... | 48                | Anderson, J. R./nBower, G./n1973/n1975/nBrown, J. S./nMa ... | Linguistic Analysis/nArtificial Intelligence/nJournal of ... | Human associative memory/nRepresentation and understandi ... | Human associative memory/nProposal for knowledge-based i ... | 1                      | Questions of form and interpretation/nSummary of MYCROFT ... | Antoine C. M. van den Bogaart, Hans G. K. Hummel, Paul A ... | 37             | Antoine C. M. van den Bogaart/nHans G. K. Hummel/nPaul A ... | Professional Development in Education/nArtificial Intell ... | This paper studies the relationship of Artificial Intell ...\n",
       "7          | Induction of Augmented Transition Networks†                  | 1977 | 1      | 2     | 125-157 | April   | John R. AndersonCorresponding author             Yale Un ... | 1              | Original Article | nan      | 10.1207/s15516709cog0102_1 |   Anderson, J. R.  Language acquisition by computer and  ... | 32                | Anderson, J. R./n1974/nAnderson, J. R./n1975/nAnderson,  ... | Information and Control/nJournal of Mathematical Psychol ... | Language acquisition by computer and child/nInformation  ... | Language acquisition by computer and child/nComputer sim ... | 0                      | Language identification in the limit/nA mathematical the ... | Georgia M. Green, Non-Transformational Syntax, 2011, 378 ... | 25             | Georgia M. Green/n2011/nMichael Gasser/n2006/nR.F Hadley ... | Neural Networks/nLingua/nComputers & Industrial Engineer ... | LAS is a program that acquires augmented transition netw ...\n",
       "8          | Decision Theory and Artificial Intelligence II: The Hung ... | 1977 | 1      | 2     | 158-192 | April   | Jerome A. Feldman,Corresponding author             Unive ... | 2              | Original Article | nan      | 10.1207/s15516709cog0102_2 |   Bobrow, D. G., & Collins, A. (Eds.) Representation and ... | 39                | 1975/nBobrow, D. G./nRaphael, B./n1974/nBobrow, D. G./nW ... | Computing Surveys/nOperations Research/nArtificial Intel ... | Representation and understanding/nPhD thesis/nElementary ... | New programming languages for AI research/nAn overview o ... | 1                      | New programming languages for AI research/nSearch for an ... | Nils Bulling, A Survey of Multi-Agent Decision Making, K ... | 24             | Nils Bulling/n2014/nCharisma F. Choudhury/nMoshe Ben-Aki ... | KI - Künstliche Intelligenz/nJournal of Choice Modelling ... | This paper describes a problem-solving framework In whic ...\n",
       "9          | Problem Solving in Semantically Rich Domains: An Example ... | 1977 | 1      | 2     | 193-215 | April   | R. Bhaskar,             Carnegie-Mellon University/nHerb ... | 2              | Original Article | nan      | 10.1207/s15516709cog0102_3 |   Newell, A., & Simon, H. A.  Human problem solving. Eng ... | 2                 | Newell, A./nSimon, H. A./n1972/nWaterman, D. A./nNewell, ... | nan                                                          | Human problem solving/nPAS-II: An interactive task-free  ... | Human problem solving/nPAS-II: An interactive task-free  ... | 0                      | nan                                                          | Fernand Gobet, Minds, Models and Milieux, 2016, 151/nNih ... | 64             | Fernand Gobet/n2016/nNihad Dukhan/n2015/nNihad Dukhan/n2 ... | QScience Proceedings/nQScience Proceedings/nJournal of t ... | Recent research on human problem solving has largely foc ...\n",
       "10         | Verbs, Time, and Modality†                                   | 1977 | 1      | 2     | 216-234 | April   | M. J. SteedmanCorresponding author             Universit ... | 1              | Original Article | nan      | 10.1207/s15516709cog0102_4 |   Antinucci, F., & Parisi, D.  On English modal verbs. P ... | 11                | Antinucci, F./nParisi, D./n1971/nBoyd, J./nThorne, J./n1 ... | Journal of Linguistics                                       | Papers from the Seventh Regional Meeting C.L.S./nStudies ... | On English modal verbs/nThe semantics of modal verbs/nSt ... | 0                      | The semantics of modal verbs                                 | João Paulo Aires, Daniele Pinheiro, Vera Strube de Lima, ... | 10             | João Paulo Aires/nDaniele Pinheiro/nVera Strube de Lima/ ... | Artificial Intelligence and Law/nFirst Language/nFirst L ... | In the first part of this paper it is argued that Vendle ...\n",
       "... (1620 rows omitted)"
      ]
     },
     "execution_count": 4,
     "metadata": {},
     "output_type": "execute_result"
    }
   ],
   "source": [
    "df"
   ]
  },
  {
   "cell_type": "markdown",
   "metadata": {},
   "source": [
    "The 'author_and_details' column in the dataframe contains author and affiliation data."
   ]
  },
  {
   "cell_type": "code",
   "execution_count": 5,
   "metadata": {},
   "outputs": [
    {
     "name": "stdout",
     "output_type": "stream",
     "text": [
      "['nan' 'Allan Collins'\n",
      " 'Daniel G. Bobrow,Corresponding author             Xerox Palo Alto Research Center/nTerry Winograd             Stanford University'\n",
      " 'Wendy LehnertCorresponding author             Yale University'\n",
      " 'Andrew Ortony,Corresponding author             University of Illinois at Urbana-Champaign/nRichard C. Anderson             University of Illinois at Urbana-Champaign'\n",
      " 'Professor Ira Goldstein,Corresponding author             Massachusetts Institute of Technology/nSeymour Papert             Massachusetts Institute of Technology'\n",
      " 'John R. AndersonCorresponding author             Yale University'\n",
      " 'Jerome A. Feldman,Corresponding author             University of Rochester/nRobert F. Sproull             Xerox Palo Alto Research Center'\n",
      " 'R. Bhaskar,             Carnegie-Mellon University/nHerbert A. SimonCorresponding author             Carnegie-Mellon University'\n",
      " 'M. J. SteedmanCorresponding author             University of Sussex'\n",
      " 'Yorick Wilks             University of Edinbur̀gh'\n",
      " 'Stephen M. Kosslyn,Corresponding author             The Johns Hopkins University/nSteven P. Shwartz             The Johns Hopkins University'\n",
      " 'J. R. Hayes,Corresponding author             Carnegie-Mellon University/nD. A. Waterman,             Carnegie-Mellon University/n Now at Information Sciences Department. Rand Corporation. C. S. Robinson             Carnegie-Mellon University'\n",
      " 'Eugene CharniakCorresponding author             University of Geneva'\n",
      " 'James A. Levin,Corresponding author             USC Information Sciences Institute/nJames A. Moore             USC Information Sciences Institute'\n",
      " 'Roger C. SchankCorresponding author             Yale University/n The research described here is funded by the Office of Naval Research under contract N00014-75C-1111. '\n",
      " 'Jean HayesCorresponding author             University of Edinburgh']\n",
      "<class 'numpy.str_'>\n"
     ]
    }
   ],
   "source": [
    "df_ad = df['authors_and_details'][0:17]\n",
    "print(df_ad)\n",
    "print(type(df_ad[4]))"
   ]
  },
  {
   "cell_type": "code",
   "execution_count": 6,
   "metadata": {},
   "outputs": [
    {
     "name": "stdout",
     "output_type": "stream",
     "text": [
      "range(0, 17)\n"
     ]
    }
   ],
   "source": [
    "df_ad[2].split('\\n')#df['authors_and_details'][2]\n",
    "print(range(len(df_ad)))"
   ]
  },
  {
   "cell_type": "code",
   "execution_count": 7,
   "metadata": {},
   "outputs": [
    {
     "data": {
      "text/plain": [
       "[['Allan Collins'],\n",
       " ['Daniel G. Bobrow,Corresponding author             Xerox Palo Alto Research Center',\n",
       "  'Terry Winograd             Stanford University'],\n",
       " ['Wendy LehnertCorresponding author             Yale University'],\n",
       " ['Andrew Ortony,Corresponding author             University of Illinois at Urbana-Champaign',\n",
       "  'Richard C. Anderson             University of Illinois at Urbana-Champaign'],\n",
       " ['Professor Ira Goldstein,Corresponding author             Massachusetts Institute of Technology',\n",
       "  'Seymour Papert             Massachusetts Institute of Technology'],\n",
       " ['John R. AndersonCorresponding author             Yale University'],\n",
       " ['Jerome A. Feldman,Corresponding author             University of Rochester',\n",
       "  'Robert F. Sproull             Xerox Palo Alto Research Center'],\n",
       " ['R. Bhaskar,             Carnegie-Mellon University',\n",
       "  'Herbert A. SimonCorresponding author             Carnegie-Mellon University'],\n",
       " ['M. J. SteedmanCorresponding author             University of Sussex'],\n",
       " ['Yorick Wilks             University of Edinbur̀gh'],\n",
       " ['Stephen M. Kosslyn,Corresponding author             The Johns Hopkins University',\n",
       "  'Steven P. Shwartz             The Johns Hopkins University'],\n",
       " ['J. R. Hayes,Corresponding author             Carnegie-Mellon University',\n",
       "  'D. A. Waterman,             Carnegie-Mellon University',\n",
       "  ' Now at Information Sciences Department. Rand Corporation. C. S. Robinson             Carnegie-Mellon University'],\n",
       " ['Eugene CharniakCorresponding author             University of Geneva'],\n",
       " ['James A. Levin,Corresponding author             USC Information Sciences Institute',\n",
       "  'James A. Moore             USC Information Sciences Institute'],\n",
       " ['Roger C. SchankCorresponding author             Yale University',\n",
       "  ' The research described here is funded by the Office of Naval Research under contract N00014-75C-1111. '],\n",
       " ['Jean HayesCorresponding author             University of Edinburgh']]"
      ]
     },
     "execution_count": 7,
     "metadata": {},
     "output_type": "execute_result"
    }
   ],
   "source": [
    "#create list to store all the orig rows\n",
    "df_namesplit = []\n",
    "\n",
    "for i in range(1, len(df_ad)):\n",
    "        \n",
    "    temp = df_ad[i].split('/n')\n",
    "    df_namesplit.append(temp)\n",
    "df_namesplit"
   ]
  },
  {
   "cell_type": "code",
   "execution_count": 89,
   "metadata": {},
   "outputs": [],
   "source": [
    "def clearCorresponding(author):\n",
    "    result = []\n",
    "    if 'Corresponding author' in author:\n",
    "        endIndex = author.find('Corresponding author')\n",
    "        \n",
    "        result.append(author[:endIndex])\n",
    "        return result\n",
    "    elif ',' in author:\n",
    "\n",
    "        endIndex = author.find(',')\n",
    "        result.append(author[:endIndex])\n",
    "        return result\n",
    "    else:\n",
    "        return author\n",
    "        \n",
    "        \"\"\"\n",
    "        if 'Corresponding author' in num[0]:\n",
    "            endind = num[0].find('Corresponding author')\n",
    "            print(endind)\n",
    "            print(num[0][:endind], '- ', num[1])\n",
    "            Corr.append([num[0][:endind], '- ', num[1]]) \"\"\""
   ]
  },
  {
   "cell_type": "code",
   "execution_count": 90,
   "metadata": {},
   "outputs": [
    {
     "data": {
      "text/html": [
       "<table border=\"1\" class=\"dataframe\">\n",
       "    <thead>\n",
       "        <tr>\n",
       "            <th>Corresponding Author</th> <th>Author</th> <th>Department/University</th>\n",
       "        </tr>\n",
       "    </thead>\n",
       "    <tbody>\n",
       "        <tr>\n",
       "            <td>0                   </td> <td>Allan Collins                                               </td> <td>NaN                                       </td>\n",
       "        </tr>\n",
       "    </tbody>\n",
       "        <tr>\n",
       "            <td>1                   </td> <td>Daniel G. Bobrow,                                           </td> <td>Xerox Palo Alto Research Center           </td>\n",
       "        </tr>\n",
       "    </tbody>\n",
       "        <tr>\n",
       "            <td>0                   </td> <td>Terry Winograd                                              </td> <td>Stanford University                       </td>\n",
       "        </tr>\n",
       "    </tbody>\n",
       "        <tr>\n",
       "            <td>1                   </td> <td>Wendy Lehnert                                               </td> <td>Yale University                           </td>\n",
       "        </tr>\n",
       "    </tbody>\n",
       "        <tr>\n",
       "            <td>1                   </td> <td>Andrew Ortony,                                              </td> <td>University of Illinois at Urbana-Champaign</td>\n",
       "        </tr>\n",
       "    </tbody>\n",
       "        <tr>\n",
       "            <td>0                   </td> <td>Richard C. Anderson                                         </td> <td>University of Illinois at Urbana-Champaign</td>\n",
       "        </tr>\n",
       "    </tbody>\n",
       "        <tr>\n",
       "            <td>1                   </td> <td>Professor Ira Goldstein,                                    </td> <td>Massachusetts Institute of Technology     </td>\n",
       "        </tr>\n",
       "    </tbody>\n",
       "        <tr>\n",
       "            <td>0                   </td> <td>Seymour Papert                                              </td> <td>Massachusetts Institute of Technology     </td>\n",
       "        </tr>\n",
       "    </tbody>\n",
       "        <tr>\n",
       "            <td>1                   </td> <td>John R. Anderson                                            </td> <td>Yale University                           </td>\n",
       "        </tr>\n",
       "    </tbody>\n",
       "        <tr>\n",
       "            <td>1                   </td> <td>Jerome A. Feldman,                                          </td> <td>University of Rochester                   </td>\n",
       "        </tr>\n",
       "    </tbody>\n",
       "        <tr>\n",
       "            <td>0                   </td> <td>Robert F. Sproull                                           </td> <td>Xerox Palo Alto Research Center           </td>\n",
       "        </tr>\n",
       "    </tbody>\n",
       "        <tr>\n",
       "            <td>0                   </td> <td>R. Bhaskar                                                  </td> <td>Carnegie-Mellon University                </td>\n",
       "        </tr>\n",
       "    </tbody>\n",
       "        <tr>\n",
       "            <td>1                   </td> <td>Herbert A. Simon                                            </td> <td>Carnegie-Mellon University                </td>\n",
       "        </tr>\n",
       "    </tbody>\n",
       "        <tr>\n",
       "            <td>1                   </td> <td>M. J. Steedman                                              </td> <td>University of Sussex                      </td>\n",
       "        </tr>\n",
       "    </tbody>\n",
       "        <tr>\n",
       "            <td>0                   </td> <td>Yorick Wilks                                                </td> <td>University of Edinbur̀gh                  </td>\n",
       "        </tr>\n",
       "    </tbody>\n",
       "        <tr>\n",
       "            <td>1                   </td> <td>Stephen M. Kosslyn,                                         </td> <td>The Johns Hopkins University              </td>\n",
       "        </tr>\n",
       "    </tbody>\n",
       "        <tr>\n",
       "            <td>0                   </td> <td>Steven P. Shwartz                                           </td> <td>The Johns Hopkins University              </td>\n",
       "        </tr>\n",
       "    </tbody>\n",
       "        <tr>\n",
       "            <td>1                   </td> <td>J. R. Hayes,                                                </td> <td>Carnegie-Mellon University                </td>\n",
       "        </tr>\n",
       "    </tbody>\n",
       "        <tr>\n",
       "            <td>0                   </td> <td>D. A. Waterman                                              </td> <td>Carnegie-Mellon University                </td>\n",
       "        </tr>\n",
       "    </tbody>\n",
       "        <tr>\n",
       "            <td>0                   </td> <td> Now at Information Sciences Department. Rand Corporatio ...</td> <td>Carnegie-Mellon University                </td>\n",
       "        </tr>\n",
       "    </tbody>\n",
       "        <tr>\n",
       "            <td>1                   </td> <td>Eugene Charniak                                             </td> <td>University of Geneva                      </td>\n",
       "        </tr>\n",
       "    </tbody>\n",
       "        <tr>\n",
       "            <td>1                   </td> <td>James A. Levin,                                             </td> <td>USC Information Sciences Institute        </td>\n",
       "        </tr>\n",
       "    </tbody>\n",
       "        <tr>\n",
       "            <td>0                   </td> <td>James A. Moore                                              </td> <td>USC Information Sciences Institute        </td>\n",
       "        </tr>\n",
       "    </tbody>\n",
       "        <tr>\n",
       "            <td>1                   </td> <td>Roger C. Schank                                             </td> <td>Yale University                           </td>\n",
       "        </tr>\n",
       "    </tbody>\n",
       "        <tr>\n",
       "            <td>0                   </td> <td> The research described here is funded by the Office of  ...</td> <td>NaN                                       </td>\n",
       "        </tr>\n",
       "    </tbody>\n",
       "        <tr>\n",
       "            <td>1                   </td> <td>Jean Hayes                                                  </td> <td>University of Edinburgh                   </td>\n",
       "        </tr>\n",
       "    </tbody>\n",
       "</table>"
      ],
      "text/plain": [
       "<IPython.core.display.HTML object>"
      ]
     },
     "metadata": {},
     "output_type": "display_data"
    }
   ],
   "source": [
    "results = Table(make_array(\"Corresponding Author\", \"Author\", \"Department/University\"))\n",
    "for i in range(len(df_namesplit)):\n",
    "    num = df_namesplit[i]\n",
    "    for j in range(len(num)):\n",
    "        corr_auth = 0\n",
    "        element = df_namesplit[i][j].split('             ')\n",
    "        if len(element) > 1:\n",
    "            author = element[0]\n",
    "            #print (author[0])\n",
    "            \n",
    "            author = clearCorresponding(author)\n",
    "            \n",
    "            dept = element[1]\n",
    "            \n",
    "            if(\"Corresponding author\" in df_namesplit[i][j]):\n",
    "                corr_auth = 1\n",
    "            #print(type(corr_auth))\n",
    "            #newRow = make_array(corr_auth,author, dept)\n",
    "            results = results.with_row([corr_auth,author, dept])\n",
    "        else:            \n",
    "            author = clearCorresponding(element[0])\n",
    "            dept = \"NaN\"\n",
    "            \n",
    "            #newRow = make_array(corr_auth,author, dept)\n",
    "            results = results.with_row([corr_auth,author, dept])\n",
    "        \n",
    "results.show()"
   ]
  },
  {
   "cell_type": "code",
   "execution_count": 70,
   "metadata": {},
   "outputs": [
    {
     "data": {
      "text/plain": [
       "['Daniel G. Bobrow,Corresponding author             Xerox Palo Alto Research Center',\n",
       " 'Terry Winograd             Stanford University']"
      ]
     },
     "execution_count": 70,
     "metadata": {},
     "output_type": "execute_result"
    }
   ],
   "source": [
    "# index the row (e.g. 2nd) and split by /n character\n",
    "df['authors_and_details'][2].split('/n')"
   ]
  },
  {
   "cell_type": "code",
   "execution_count": null,
   "metadata": {
    "collapsed": true
   },
   "outputs": [],
   "source": [
    "# the 0th element contains the information of the first author\n",
    "df['authors_and_details'][2].split('/n')[0]"
   ]
  },
  {
   "cell_type": "code",
   "execution_count": null,
   "metadata": {
    "collapsed": true
   },
   "outputs": [],
   "source": [
    "# further split author info to separate name and affiliation\n",
    "au1 = df['authors_and_details'][2].split('/n')[0].split('             ')"
   ]
  },
  {
   "cell_type": "code",
   "execution_count": null,
   "metadata": {
    "collapsed": true
   },
   "outputs": [],
   "source": [
    "au1"
   ]
  },
  {
   "cell_type": "code",
   "execution_count": null,
   "metadata": {
    "collapsed": true
   },
   "outputs": [],
   "source": [
    "# find the corresponding author and delete that part of the string ',Corresponding author'\n",
    "if 'Corresponding author' in au1[0]:\n",
    "    endind = au1[0].find(',Corresponding author')\n",
    "    print(endind)\n",
    "    print(au1[0][:endind], '- ', au1[1])"
   ]
  },
  {
   "cell_type": "code",
   "execution_count": null,
   "metadata": {
    "collapsed": true
   },
   "outputs": [],
   "source": [
    "# make a new dataset\n"
   ]
  },
  {
   "cell_type": "markdown",
   "metadata": {},
   "source": [
    "### The latter ones have a little more information\n",
    "Let's go to index 1500"
   ]
  },
  {
   "cell_type": "code",
   "execution_count": null,
   "metadata": {
    "collapsed": true
   },
   "outputs": [],
   "source": [
    "df['authors_and_details'][1501].split('/n')"
   ]
  },
  {
   "cell_type": "code",
   "execution_count": null,
   "metadata": {
    "collapsed": true
   },
   "outputs": [],
   "source": [
    "df['article_name'][1501]"
   ]
  },
  {
   "cell_type": "code",
   "execution_count": null,
   "metadata": {
    "collapsed": true
   },
   "outputs": [],
   "source": []
  }
 ],
 "metadata": {
  "kernelspec": {
   "display_name": "Python 3",
   "language": "python",
   "name": "python3"
  },
  "language_info": {
   "codemirror_mode": {
    "name": "ipython",
    "version": 3
   },
   "file_extension": ".py",
   "mimetype": "text/x-python",
   "name": "python",
   "nbconvert_exporter": "python",
   "pygments_lexer": "ipython3",
   "version": "3.6.3"
  }
 },
 "nbformat": 4,
 "nbformat_minor": 2
}
