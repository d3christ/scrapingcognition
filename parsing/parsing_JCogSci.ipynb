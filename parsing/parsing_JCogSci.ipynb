{
 "cells": [
  {
   "cell_type": "markdown",
   "metadata": {},
   "source": [
    "# Parsing Journal of Cognitive Science article data Arthur already scraped (see GDrive)\n",
    "Aim 1: Parse author & affiliation information for each article.\n",
    "\n",
    "###### Tentative plans\n",
    "\n",
    "LOOP THROUGH ALL ROWS: \n",
    "- Separate the author and affiliation data\n",
    "- Create new row for each author in that paper, and denote whether that author was a corresponding author. \n",
    "- Also, keep the article name and index (row number) of the article in the original dataset."
   ]
  },
  {
   "cell_type": "code",
   "execution_count": 26,
   "metadata": {
    "collapsed": true
   },
   "outputs": [],
   "source": [
    "import pandas as pd\n",
    "import string as st"
   ]
  },
  {
   "cell_type": "code",
   "execution_count": 3,
   "metadata": {
    "collapsed": true
   },
   "outputs": [],
   "source": [
    "data_file = '../data/171022_cogsci_journal_unprocessed.csv'\n",
    "df = pd.read_csv(data_file)"
   ]
  },
  {
   "cell_type": "markdown",
   "metadata": {},
   "source": [
    "The 'author_and_details' column in the dataframe contains author and affiliation data."
   ]
  },
  {
   "cell_type": "code",
   "execution_count": 14,
   "metadata": {},
   "outputs": [
    {
     "data": {
      "text/plain": [
       "0                                                     NaN\n",
       "1                                           Allan Collins\n",
       "2       Daniel G. Bobrow,Corresponding author         ...\n",
       "3       Wendy LehnertCorresponding author             ...\n",
       "4       Andrew Ortony,Corresponding author            ...\n",
       "5       Professor Ira Goldstein,Corresponding author  ...\n",
       "6       John R. AndersonCorresponding author          ...\n",
       "7       Jerome A. Feldman,Corresponding author        ...\n",
       "8       R. Bhaskar,             Carnegie-Mellon Univer...\n",
       "9       M. J. SteedmanCorresponding author            ...\n",
       "10      Yorick Wilks             University of Edinbur̀gh\n",
       "11      Stephen M. Kosslyn,Corresponding author       ...\n",
       "12      J. R. Hayes,Corresponding author             C...\n",
       "13      Eugene CharniakCorresponding author           ...\n",
       "14      James A. Levin,Corresponding author           ...\n",
       "15      Roger C. SchankCorresponding author           ...\n",
       "16      Jean HayesCorresponding author             Uni...\n",
       "17      P. N. Johnson-LairdCorresponding author       ...\n",
       "18      Jaime G. Carbonell JrCorresponding author     ...\n",
       "19      Andrew OrtonyCorresponding author             ...\n",
       "20      Drew McDermottCorresponding author            ...\n",
       "21      Laurence MillerCorresponding author           ...\n",
       "22      Benjamin KuipersCorresponding author          ...\n",
       "23      John Seely Brown,             Bolt Beranek and...\n",
       "24      Eugene Charniak             Computer Science B...\n",
       "25      Bertram Bruce,             Bolt Beranek and Ne...\n",
       "26            Robert Wilensky             Yale University\n",
       "27      George Lakoff             University of Califo...\n",
       "28             Drew McDermott             Yale University\n",
       "29      Rachel Reichman             Harvard University...\n",
       "                              ...                        \n",
       "1600    Seth Chin-Parker,Corresponding authorE-mail ad...\n",
       "1601    Percival G. Matthews,Corresponding authorE-mai...\n",
       "1602    Cédrick T. Bonnet,Corresponding authorE-mail a...\n",
       "1603    Meredith Meyer,Corresponding authorE-mail addr...\n",
       "1604                                                  NaN\n",
       "1605    Thomas Busey,Corresponding authorE-mail addres...\n",
       "1606    Kristina Kasparian,Corresponding authorE-mail ...\n",
       "1607    Takeshi Okada,Corresponding authorE-mail addre...\n",
       "1608    Wayne D. Gray,Corresponding authorE-mail addre...\n",
       "1609    Jacob FeldmanCorresponding authorE-mail addres...\n",
       "1610    Jeff Loucks,Corresponding authorE-mail address...\n",
       "1611    Arber Tasimi,Corresponding authorE-mail addres...\n",
       "1612    David M. Sidhu,Corresponding authorE-mail addr...\n",
       "1613    Çağrı ÇöltekinCorresponding authorE-mail addre...\n",
       "1614                                                  NaN\n",
       "1615    Gregory L. Murphy,Corresponding authorE-mail a...\n",
       "1616    Melissa DeWolf,Corresponding authorE-mail addr...\n",
       "1617    Jennifer S. Trueblood,Corresponding authorE-ma...\n",
       "1618    Sarah E. Koopman,Corresponding authorE-mail ad...\n",
       "1619    Isabelle Dautriche,Corresponding authorE-mail ...\n",
       "1620    Florencia RealiCorresponding authorE-mail addr...\n",
       "1621    Christina Y. Tzeng,Corresponding authorE-mail ...\n",
       "1622    Sophie Dufour,Corresponding authorE-mail addre...\n",
       "1623    Woojae Kim,Corresponding authorE-mail address:...\n",
       "1624    John TurriCorresponding authorE-mail address: ...\n",
       "1625    Rafael Núñez,Corresponding authorE-mail addres...\n",
       "1626    Katarzyna Patro,Corresponding authorE-mail add...\n",
       "1627    Rosa Rugani,Corresponding authorE-mail address...\n",
       "1628    Gregory Scontras,Corresponding authorE-mail ad...\n",
       "1629                                                  NaN\n",
       "Name: authors_and_details, Length: 1630, dtype: object"
      ]
     },
     "execution_count": 14,
     "metadata": {},
     "output_type": "execute_result"
    }
   ],
   "source": [
    "df['authors_and_details']"
   ]
  },
  {
   "cell_type": "code",
   "execution_count": 16,
   "metadata": {},
   "outputs": [
    {
     "data": {
      "text/plain": [
       "['Daniel G. Bobrow,Corresponding author             Xerox Palo Alto Research Center',\n",
       " 'Terry Winograd             Stanford University']"
      ]
     },
     "execution_count": 16,
     "metadata": {},
     "output_type": "execute_result"
    }
   ],
   "source": [
    "# index the row (e.g. 2nd) and split by /n character\n",
    "df['authors_and_details'][2].split('/n')"
   ]
  },
  {
   "cell_type": "code",
   "execution_count": 18,
   "metadata": {},
   "outputs": [
    {
     "data": {
      "text/plain": [
       "'Daniel G. Bobrow,Corresponding author             Xerox Palo Alto Research Center'"
      ]
     },
     "execution_count": 18,
     "metadata": {},
     "output_type": "execute_result"
    }
   ],
   "source": [
    "# the 0th element contains the information of the first author\n",
    "df['authors_and_details'][2].split('/n')[0]"
   ]
  },
  {
   "cell_type": "code",
   "execution_count": 24,
   "metadata": {},
   "outputs": [],
   "source": [
    "# further split author info to separate name and affiliation\n",
    "au1 = df['authors_and_details'][2].split('/n')[0].split('             ')"
   ]
  },
  {
   "cell_type": "code",
   "execution_count": 36,
   "metadata": {},
   "outputs": [
    {
     "name": "stdout",
     "output_type": "stream",
     "text": [
      "Daniel G. Bobrow :  Xerox Palo Alto Research Center\n"
     ]
    }
   ],
   "source": [
    "# find the corresponding author and delete that part of the string ',Corresponding author'\n",
    "if 'Corresponding author' in au1[0]:\n",
    "    endind = au1[0].find(',Corresponding author')\n",
    "    print(au1[0][:endind], ': ', au1[1])"
   ]
  },
  {
   "cell_type": "markdown",
   "metadata": {},
   "source": [
    "### The latter ones have a little more information\n",
    "Let's go to index 1500"
   ]
  },
  {
   "cell_type": "code",
   "execution_count": 40,
   "metadata": {},
   "outputs": [
    {
     "data": {
      "text/plain": [
       "['Susan Wagner Cook,Corresponding authorE-mail address: susan-cook@uiowa.eduDepartment of Psychological and Brain Sciences, Delta Center, University of IowaCorrespondence should be sent to Susan Wagner Cook, Department of Psychological and Brain Sciences, E11 Seashore Hall, University of Iowa, Iowa City, IA 52242. E-mail: susan-cook@uiowa.edu',\n",
       " 'Howard S. Friedman,Department of Psychology, University of California, Riverside',\n",
       " 'Katherine A. Duggan,Department of Psychology, University of California, Riverside',\n",
       " 'Jian Cui,Department of Computer Science, Purdue University',\n",
       " 'Voicu PopescuDepartment of Computer Science, Purdue University']"
      ]
     },
     "execution_count": 40,
     "metadata": {},
     "output_type": "execute_result"
    }
   ],
   "source": [
    "df['authors_and_details'][1501].split('/n')"
   ]
  },
  {
   "cell_type": "code",
   "execution_count": 41,
   "metadata": {},
   "outputs": [
    {
     "data": {
      "text/plain": [
       "'Hand Gesture and Mathematics Learning: Lessons From an Avatar'"
      ]
     },
     "execution_count": 41,
     "metadata": {},
     "output_type": "execute_result"
    }
   ],
   "source": [
    "df['article_name'][1501]"
   ]
  },
  {
   "cell_type": "code",
   "execution_count": null,
   "metadata": {
    "collapsed": true
   },
   "outputs": [],
   "source": []
  }
 ],
 "metadata": {
  "kernelspec": {
   "display_name": "Python 3",
   "language": "python",
   "name": "python3"
  },
  "language_info": {
   "codemirror_mode": {
    "name": "ipython",
    "version": 3
   },
   "file_extension": ".py",
   "mimetype": "text/x-python",
   "name": "python",
   "nbconvert_exporter": "python",
   "pygments_lexer": "ipython3",
   "version": "3.6.2"
  }
 },
 "nbformat": 4,
 "nbformat_minor": 2
}
